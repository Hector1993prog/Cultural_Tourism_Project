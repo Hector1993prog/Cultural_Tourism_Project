{
 "cells": [
  {
   "attachments": {},
   "cell_type": "markdown",
   "metadata": {},
   "source": [
    "# CREATING THE JSON FORMAT FOR MONGODB DATA BASE\n",
    "\n",
    "In this file we grouped the different json files to create a compact index to fill our mongo DB data base. This will serve as ground to perform later research for our business."
   ]
  },
  {
   "cell_type": "code",
   "execution_count": 1,
   "metadata": {},
   "outputs": [],
   "source": [
    "from functions import *\n",
    "import csv\n",
    "import json\n",
    "import codecs\n",
    "import os\n",
    "from natsort import natsorted "
   ]
  },
  {
   "cell_type": "code",
   "execution_count": 2,
   "metadata": {},
   "outputs": [],
   "source": [
    "files = []\n",
    "for file in os.listdir(r\"C:\\Users\\Héctor\\Documents\\IRONHACK\\DATA ANALIST\\BOOTCAMP\\CULTURAL VIEWER FINAL PROJECT\\PYTHON\\json\"):\n",
    "    if file.endswith(\".json\"):\n",
    "        files.append(os.path.join(r'C:\\Users\\Héctor\\Documents\\IRONHACK\\DATA ANALIST\\BOOTCAMP\\CULTURAL VIEWER FINAL PROJECT\\PYTHON\\json', file))"
   ]
  },
  {
   "cell_type": "code",
   "execution_count": 3,
   "metadata": {},
   "outputs": [
    {
     "data": {
      "text/plain": [
       "['C:\\\\Users\\\\Héctor\\\\Documents\\\\IRONHACK\\\\DATA ANALIST\\\\BOOTCAMP\\\\CULTURAL VIEWER FINAL PROJECT\\\\PYTHON\\\\json\\\\1. Mezquita Azul.json',\n",
       " 'C:\\\\Users\\\\Héctor\\\\Documents\\\\IRONHACK\\\\DATA ANALIST\\\\BOOTCAMP\\\\CULTURAL VIEWER FINAL PROJECT\\\\PYTHON\\\\json\\\\2. Gran_bazar.json',\n",
       " 'C:\\\\Users\\\\Héctor\\\\Documents\\\\IRONHACK\\\\DATA ANALIST\\\\BOOTCAMP\\\\CULTURAL VIEWER FINAL PROJECT\\\\PYTHON\\\\json\\\\3. bazar_de_las_especias.json',\n",
       " 'C:\\\\Users\\\\Héctor\\\\Documents\\\\IRONHACK\\\\DATA ANALIST\\\\BOOTCAMP\\\\CULTURAL VIEWER FINAL PROJECT\\\\PYTHON\\\\json\\\\4. mez_de_suleiman.json',\n",
       " 'C:\\\\Users\\\\Héctor\\\\Documents\\\\IRONHACK\\\\DATA ANALIST\\\\BOOTCAMP\\\\CULTURAL VIEWER FINAL PROJECT\\\\PYTHON\\\\json\\\\5. hipodromo_constantinopla.json',\n",
       " 'C:\\\\Users\\\\Héctor\\\\Documents\\\\IRONHACK\\\\DATA ANALIST\\\\BOOTCAMP\\\\CULTURAL VIEWER FINAL PROJECT\\\\PYTHON\\\\json\\\\6. puente_gatala.json',\n",
       " 'C:\\\\Users\\\\Héctor\\\\Documents\\\\IRONHACK\\\\DATA ANALIST\\\\BOOTCAMP\\\\CULTURAL VIEWER FINAL PROJECT\\\\PYTHON\\\\json\\\\7. parque_gülhane.json',\n",
       " 'C:\\\\Users\\\\Héctor\\\\Documents\\\\IRONHACK\\\\DATA ANALIST\\\\BOOTCAMP\\\\CULTURAL VIEWER FINAL PROJECT\\\\PYTHON\\\\json\\\\8. Rumeli_Hisar.json',\n",
       " 'C:\\\\Users\\\\Héctor\\\\Documents\\\\IRONHACK\\\\DATA ANALIST\\\\BOOTCAMP\\\\CULTURAL VIEWER FINAL PROJECT\\\\PYTHON\\\\json\\\\9. Eyüp Sultan Mosque.json',\n",
       " 'C:\\\\Users\\\\Héctor\\\\Documents\\\\IRONHACK\\\\DATA ANALIST\\\\BOOTCAMP\\\\CULTURAL VIEWER FINAL PROJECT\\\\PYTHON\\\\json\\\\10. Parque Emirgan.json',\n",
       " 'C:\\\\Users\\\\Héctor\\\\Documents\\\\IRONHACK\\\\DATA ANALIST\\\\BOOTCAMP\\\\CULTURAL VIEWER FINAL PROJECT\\\\PYTHON\\\\json\\\\11. Mezquita de Fatih.json',\n",
       " 'C:\\\\Users\\\\Héctor\\\\Documents\\\\IRONHACK\\\\DATA ANALIST\\\\BOOTCAMP\\\\CULTURAL VIEWER FINAL PROJECT\\\\PYTHON\\\\json\\\\12. Yıldız Park.json',\n",
       " 'C:\\\\Users\\\\Héctor\\\\Documents\\\\IRONHACK\\\\DATA ANALIST\\\\BOOTCAMP\\\\CULTURAL VIEWER FINAL PROJECT\\\\PYTHON\\\\json\\\\13. Palacio Beylerbeyi.json',\n",
       " 'C:\\\\Users\\\\Héctor\\\\Documents\\\\IRONHACK\\\\DATA ANALIST\\\\BOOTCAMP\\\\CULTURAL VIEWER FINAL PROJECT\\\\PYTHON\\\\json\\\\14. Palacio de Çırağan.json',\n",
       " 'C:\\\\Users\\\\Héctor\\\\Documents\\\\IRONHACK\\\\DATA ANALIST\\\\BOOTCAMP\\\\CULTURAL VIEWER FINAL PROJECT\\\\PYTHON\\\\json\\\\15. Mezquita Nueva.json',\n",
       " 'C:\\\\Users\\\\Héctor\\\\Documents\\\\IRONHACK\\\\DATA ANALIST\\\\BOOTCAMP\\\\CULTURAL VIEWER FINAL PROJECT\\\\PYTHON\\\\json\\\\16. Istanbul Aquarium.json',\n",
       " 'C:\\\\Users\\\\Héctor\\\\Documents\\\\IRONHACK\\\\DATA ANALIST\\\\BOOTCAMP\\\\CULTURAL VIEWER FINAL PROJECT\\\\PYTHON\\\\json\\\\17. Iglesia de San Antonio de Padua.json',\n",
       " 'C:\\\\Users\\\\Héctor\\\\Documents\\\\IRONHACK\\\\DATA ANALIST\\\\BOOTCAMP\\\\CULTURAL VIEWER FINAL PROJECT\\\\PYTHON\\\\json\\\\18. Torre de la Doncella.json',\n",
       " 'C:\\\\Users\\\\Héctor\\\\Documents\\\\IRONHACK\\\\DATA ANALIST\\\\BOOTCAMP\\\\CULTURAL VIEWER FINAL PROJECT\\\\PYTHON\\\\json\\\\19. Plaza Beyazit.json',\n",
       " 'C:\\\\Users\\\\Héctor\\\\Documents\\\\IRONHACK\\\\DATA ANALIST\\\\BOOTCAMP\\\\CULTURAL VIEWER FINAL PROJECT\\\\PYTHON\\\\json\\\\20. Mezquita de Ortaköy.json',\n",
       " 'C:\\\\Users\\\\Héctor\\\\Documents\\\\IRONHACK\\\\DATA ANALIST\\\\BOOTCAMP\\\\CULTURAL VIEWER FINAL PROJECT\\\\PYTHON\\\\json\\\\21. Mezquita de Rüstem Paşa.json',\n",
       " 'C:\\\\Users\\\\Héctor\\\\Documents\\\\IRONHACK\\\\DATA ANALIST\\\\BOOTCAMP\\\\CULTURAL VIEWER FINAL PROJECT\\\\PYTHON\\\\json\\\\22. Pasaje de las flores.json',\n",
       " 'C:\\\\Users\\\\Héctor\\\\Documents\\\\IRONHACK\\\\DATA ANALIST\\\\BOOTCAMP\\\\CULTURAL VIEWER FINAL PROJECT\\\\PYTHON\\\\json\\\\23. Mezquita de Nuruosmaniye.json',\n",
       " 'C:\\\\Users\\\\Héctor\\\\Documents\\\\IRONHACK\\\\DATA ANALIST\\\\BOOTCAMP\\\\CULTURAL VIEWER FINAL PROJECT\\\\PYTHON\\\\json\\\\24. Taksim Square.json',\n",
       " 'C:\\\\Users\\\\Héctor\\\\Documents\\\\IRONHACK\\\\DATA ANALIST\\\\BOOTCAMP\\\\CULTURAL VIEWER FINAL PROJECT\\\\PYTHON\\\\json\\\\25. Anadoluhisarı.json',\n",
       " 'C:\\\\Users\\\\Héctor\\\\Documents\\\\IRONHACK\\\\DATA ANALIST\\\\BOOTCAMP\\\\CULTURAL VIEWER FINAL PROJECT\\\\PYTHON\\\\json\\\\26. columna de Constantino.json',\n",
       " 'C:\\\\Users\\\\Héctor\\\\Documents\\\\IRONHACK\\\\DATA ANALIST\\\\BOOTCAMP\\\\CULTURAL VIEWER FINAL PROJECT\\\\PYTHON\\\\json\\\\27. Madame Tussauds Istanbul.json',\n",
       " 'C:\\\\Users\\\\Héctor\\\\Documents\\\\IRONHACK\\\\DATA ANALIST\\\\BOOTCAMP\\\\CULTURAL VIEWER FINAL PROJECT\\\\PYTHON\\\\json\\\\28. Maçka Demokrasi Parkı.json',\n",
       " 'C:\\\\Users\\\\Héctor\\\\Documents\\\\IRONHACK\\\\DATA ANALIST\\\\BOOTCAMP\\\\CULTURAL VIEWER FINAL PROJECT\\\\PYTHON\\\\json\\\\29. Iglesia de San Sergio y San Baco.json',\n",
       " 'C:\\\\Users\\\\Héctor\\\\Documents\\\\IRONHACK\\\\DATA ANALIST\\\\BOOTCAMP\\\\CULTURAL VIEWER FINAL PROJECT\\\\PYTHON\\\\json\\\\30. SEA LIFE.json',\n",
       " 'C:\\\\Users\\\\Héctor\\\\Documents\\\\IRONHACK\\\\DATA ANALIST\\\\BOOTCAMP\\\\CULTURAL VIEWER FINAL PROJECT\\\\PYTHON\\\\json\\\\31. VIALAND Tema Park.json',\n",
       " 'C:\\\\Users\\\\Héctor\\\\Documents\\\\IRONHACK\\\\DATA ANALIST\\\\BOOTCAMP\\\\CULTURAL VIEWER FINAL PROJECT\\\\PYTHON\\\\json\\\\32. Cisterna de Teodosio.json',\n",
       " 'C:\\\\Users\\\\Héctor\\\\Documents\\\\IRONHACK\\\\DATA ANALIST\\\\BOOTCAMP\\\\CULTURAL VIEWER FINAL PROJECT\\\\PYTHON\\\\json\\\\33. Küçüksu Kasrı (Milli Saraylar).json',\n",
       " 'C:\\\\Users\\\\Héctor\\\\Documents\\\\IRONHACK\\\\DATA ANALIST\\\\BOOTCAMP\\\\CULTURAL VIEWER FINAL PROJECT\\\\PYTHON\\\\json\\\\34. Mihrimah Sultan Mosque.json',\n",
       " 'C:\\\\Users\\\\Héctor\\\\Documents\\\\IRONHACK\\\\DATA ANALIST\\\\BOOTCAMP\\\\CULTURAL VIEWER FINAL PROJECT\\\\PYTHON\\\\json\\\\35. Yavuz Sultan Selim Mosque.json',\n",
       " 'C:\\\\Users\\\\Héctor\\\\Documents\\\\IRONHACK\\\\DATA ANALIST\\\\BOOTCAMP\\\\CULTURAL VIEWER FINAL PROJECT\\\\PYTHON\\\\json\\\\36. Catedral patriarcal de San Jorge.json',\n",
       " 'C:\\\\Users\\\\Héctor\\\\Documents\\\\IRONHACK\\\\DATA ANALIST\\\\BOOTCAMP\\\\CULTURAL VIEWER FINAL PROJECT\\\\PYTHON\\\\json\\\\37. Puente del Bósforo.json',\n",
       " 'C:\\\\Users\\\\Héctor\\\\Documents\\\\IRONHACK\\\\DATA ANALIST\\\\BOOTCAMP\\\\CULTURAL VIEWER FINAL PROJECT\\\\PYTHON\\\\json\\\\38. Museo militar de Harbiye.json',\n",
       " 'C:\\\\Users\\\\Héctor\\\\Documents\\\\IRONHACK\\\\DATA ANALIST\\\\BOOTCAMP\\\\CULTURAL VIEWER FINAL PROJECT\\\\PYTHON\\\\json\\\\39. Cağaloğlu Hamam.json',\n",
       " 'C:\\\\Users\\\\Héctor\\\\Documents\\\\IRONHACK\\\\DATA ANALIST\\\\BOOTCAMP\\\\CULTURAL VIEWER FINAL PROJECT\\\\PYTHON\\\\json\\\\40. Mezquita de Beyazid.json',\n",
       " 'C:\\\\Users\\\\Héctor\\\\Documents\\\\IRONHACK\\\\DATA ANALIST\\\\BOOTCAMP\\\\CULTURAL VIEWER FINAL PROJECT\\\\PYTHON\\\\json\\\\41. Pelit Chocolate Museum.json',\n",
       " 'C:\\\\Users\\\\Héctor\\\\Documents\\\\IRONHACK\\\\DATA ANALIST\\\\BOOTCAMP\\\\CULTURAL VIEWER FINAL PROJECT\\\\PYTHON\\\\json\\\\42. Kılıc Ali Pasa Hamam.json',\n",
       " 'C:\\\\Users\\\\Héctor\\\\Documents\\\\IRONHACK\\\\DATA ANALIST\\\\BOOTCAMP\\\\CULTURAL VIEWER FINAL PROJECT\\\\PYTHON\\\\json\\\\43. Ihlamur Kasırları.json',\n",
       " 'C:\\\\Users\\\\Héctor\\\\Documents\\\\IRONHACK\\\\DATA ANALIST\\\\BOOTCAMP\\\\CULTURAL VIEWER FINAL PROJECT\\\\PYTHON\\\\json\\\\44.Fatih Sultan Mehmet Bridge.json',\n",
       " 'C:\\\\Users\\\\Héctor\\\\Documents\\\\IRONHACK\\\\DATA ANALIST\\\\BOOTCAMP\\\\CULTURAL VIEWER FINAL PROJECT\\\\PYTHON\\\\json\\\\45. Ağa Hamamı.json',\n",
       " 'C:\\\\Users\\\\Héctor\\\\Documents\\\\IRONHACK\\\\DATA ANALIST\\\\BOOTCAMP\\\\CULTURAL VIEWER FINAL PROJECT\\\\PYTHON\\\\json\\\\46. Mezquita de Dolmabahçe.json',\n",
       " 'C:\\\\Users\\\\Héctor\\\\Documents\\\\IRONHACK\\\\DATA ANALIST\\\\BOOTCAMP\\\\CULTURAL VIEWER FINAL PROJECT\\\\PYTHON\\\\json\\\\47. Mezquita de Zeyrek.json',\n",
       " 'C:\\\\Users\\\\Héctor\\\\Documents\\\\IRONHACK\\\\DATA ANALIST\\\\BOOTCAMP\\\\CULTURAL VIEWER FINAL PROJECT\\\\PYTHON\\\\json\\\\48. Mezquita de Sokollu Mehmet Pasha.json',\n",
       " 'C:\\\\Users\\\\Héctor\\\\Documents\\\\IRONHACK\\\\DATA ANALIST\\\\BOOTCAMP\\\\CULTURAL VIEWER FINAL PROJECT\\\\PYTHON\\\\json\\\\49. Parque Taksim Gezi.json',\n",
       " 'C:\\\\Users\\\\Héctor\\\\Documents\\\\IRONHACK\\\\DATA ANALIST\\\\BOOTCAMP\\\\CULTURAL VIEWER FINAL PROJECT\\\\PYTHON\\\\json\\\\50. Torre de Gálata.json',\n",
       " 'C:\\\\Users\\\\Héctor\\\\Documents\\\\IRONHACK\\\\DATA ANALIST\\\\BOOTCAMP\\\\CULTURAL VIEWER FINAL PROJECT\\\\PYTHON\\\\json\\\\51. Atatürk Museum.json',\n",
       " 'C:\\\\Users\\\\Héctor\\\\Documents\\\\IRONHACK\\\\DATA ANALIST\\\\BOOTCAMP\\\\CULTURAL VIEWER FINAL PROJECT\\\\PYTHON\\\\json\\\\52. Salt Galata.json',\n",
       " 'C:\\\\Users\\\\Héctor\\\\Documents\\\\IRONHACK\\\\DATA ANALIST\\\\BOOTCAMP\\\\CULTURAL VIEWER FINAL PROJECT\\\\PYTHON\\\\json\\\\53. Murallas de Constantinopla.json',\n",
       " 'C:\\\\Users\\\\Héctor\\\\Documents\\\\IRONHACK\\\\DATA ANALIST\\\\BOOTCAMP\\\\CULTURAL VIEWER FINAL PROJECT\\\\PYTHON\\\\json\\\\54. Iglesia de San Esteban de los Búlgaros.json',\n",
       " 'C:\\\\Users\\\\Héctor\\\\Documents\\\\IRONHACK\\\\DATA ANALIST\\\\BOOTCAMP\\\\CULTURAL VIEWER FINAL PROJECT\\\\PYTHON\\\\json\\\\55.Yedikule Dungeons Museum.json',\n",
       " 'C:\\\\Users\\\\Héctor\\\\Documents\\\\IRONHACK\\\\DATA ANALIST\\\\BOOTCAMP\\\\CULTURAL VIEWER FINAL PROJECT\\\\PYTHON\\\\json\\\\56.Fuente Alemana.json',\n",
       " 'C:\\\\Users\\\\Héctor\\\\Documents\\\\IRONHACK\\\\DATA ANALIST\\\\BOOTCAMP\\\\CULTURAL VIEWER FINAL PROJECT\\\\PYTHON\\\\json\\\\57.Baños del sultán Suleimán.json',\n",
       " 'C:\\\\Users\\\\Héctor\\\\Documents\\\\IRONHACK\\\\DATA ANALIST\\\\BOOTCAMP\\\\CULTURAL VIEWER FINAL PROJECT\\\\PYTHON\\\\json\\\\58. Acueducto de Valente.json',\n",
       " 'C:\\\\Users\\\\Héctor\\\\Documents\\\\IRONHACK\\\\DATA ANALIST\\\\BOOTCAMP\\\\CULTURAL VIEWER FINAL PROJECT\\\\PYTHON\\\\json\\\\59.pammakaristos.json',\n",
       " 'C:\\\\Users\\\\Héctor\\\\Documents\\\\IRONHACK\\\\DATA ANALIST\\\\BOOTCAMP\\\\CULTURAL VIEWER FINAL PROJECT\\\\PYTHON\\\\json\\\\60.Serpent Column.json',\n",
       " 'C:\\\\Users\\\\Héctor\\\\Documents\\\\IRONHACK\\\\DATA ANALIST\\\\BOOTCAMP\\\\CULTURAL VIEWER FINAL PROJECT\\\\PYTHON\\\\json\\\\61. Museo del Pabellon de los azulejos.json',\n",
       " 'C:\\\\Users\\\\Héctor\\\\Documents\\\\IRONHACK\\\\DATA ANALIST\\\\BOOTCAMP\\\\CULTURAL VIEWER FINAL PROJECT\\\\PYTHON\\\\json\\\\62. Ataturk Arboretum.json',\n",
       " 'C:\\\\Users\\\\Héctor\\\\Documents\\\\IRONHACK\\\\DATA ANALIST\\\\BOOTCAMP\\\\CULTURAL VIEWER FINAL PROJECT\\\\PYTHON\\\\json\\\\63.İstiklal Caddesi.json',\n",
       " 'C:\\\\Users\\\\Héctor\\\\Documents\\\\IRONHACK\\\\DATA ANALIST\\\\BOOTCAMP\\\\CULTURAL VIEWER FINAL PROJECT\\\\PYTHON\\\\json\\\\64.MAC - Kanyon AVM.json',\n",
       " 'C:\\\\Users\\\\Héctor\\\\Documents\\\\IRONHACK\\\\DATA ANALIST\\\\BOOTCAMP\\\\CULTURAL VIEWER FINAL PROJECT\\\\PYTHON\\\\json\\\\65.Topkapı Sarayı.json',\n",
       " 'C:\\\\Users\\\\Héctor\\\\Documents\\\\IRONHACK\\\\DATA ANALIST\\\\BOOTCAMP\\\\CULTURAL VIEWER FINAL PROJECT\\\\PYTHON\\\\json\\\\66. Yıldız Palace Museum.json',\n",
       " 'C:\\\\Users\\\\Héctor\\\\Documents\\\\IRONHACK\\\\DATA ANALIST\\\\BOOTCAMP\\\\CULTURAL VIEWER FINAL PROJECT\\\\PYTHON\\\\json\\\\67.Çemberlitaş Hamamı.json',\n",
       " 'C:\\\\Users\\\\Héctor\\\\Documents\\\\IRONHACK\\\\DATA ANALIST\\\\BOOTCAMP\\\\CULTURAL VIEWER FINAL PROJECT\\\\PYTHON\\\\json\\\\68.Cuerno de Oro.json',\n",
       " 'C:\\\\Users\\\\Héctor\\\\Documents\\\\IRONHACK\\\\DATA ANALIST\\\\BOOTCAMP\\\\CULTURAL VIEWER FINAL PROJECT\\\\PYTHON\\\\json\\\\69.ViaSea acuarium.json',\n",
       " 'C:\\\\Users\\\\Héctor\\\\Documents\\\\IRONHACK\\\\DATA ANALIST\\\\BOOTCAMP\\\\CULTURAL VIEWER FINAL PROJECT\\\\PYTHON\\\\json\\\\70. Belgrade Forest.json',\n",
       " 'C:\\\\Users\\\\Héctor\\\\Documents\\\\IRONHACK\\\\DATA ANALIST\\\\BOOTCAMP\\\\CULTURAL VIEWER FINAL PROJECT\\\\PYTHON\\\\json\\\\71.Bağdat Avenue.json',\n",
       " 'C:\\\\Users\\\\Héctor\\\\Documents\\\\IRONHACK\\\\DATA ANALIST\\\\BOOTCAMP\\\\CULTURAL VIEWER FINAL PROJECT\\\\PYTHON\\\\json\\\\72.Yoros Castle.json',\n",
       " 'C:\\\\Users\\\\Héctor\\\\Documents\\\\IRONHACK\\\\DATA ANALIST\\\\BOOTCAMP\\\\CULTURAL VIEWER FINAL PROJECT\\\\PYTHON\\\\json\\\\73.Şehzade Cami.json',\n",
       " 'C:\\\\Users\\\\Héctor\\\\Documents\\\\IRONHACK\\\\DATA ANALIST\\\\BOOTCAMP\\\\CULTURAL VIEWER FINAL PROJECT\\\\PYTHON\\\\json\\\\74. Yavuz Sultan Selim Bridge.json',\n",
       " 'C:\\\\Users\\\\Héctor\\\\Documents\\\\IRONHACK\\\\DATA ANALIST\\\\BOOTCAMP\\\\CULTURAL VIEWER FINAL PROJECT\\\\PYTHON\\\\json\\\\75.Naval Museum.json',\n",
       " 'C:\\\\Users\\\\Héctor\\\\Documents\\\\IRONHACK\\\\DATA ANALIST\\\\BOOTCAMP\\\\CULTURAL VIEWER FINAL PROJECT\\\\PYTHON\\\\json\\\\76.Istanbul Toy Museum.json',\n",
       " 'C:\\\\Users\\\\Héctor\\\\Documents\\\\IRONHACK\\\\DATA ANALIST\\\\BOOTCAMP\\\\CULTURAL VIEWER FINAL PROJECT\\\\PYTHON\\\\json\\\\77.Historical Galatasaray Bath.json',\n",
       " 'C:\\\\Users\\\\Héctor\\\\Documents\\\\IRONHACK\\\\DATA ANALIST\\\\BOOTCAMP\\\\CULTURAL VIEWER FINAL PROJECT\\\\PYTHON\\\\json\\\\78. Galata Mevlevihanesi Müzesi.json',\n",
       " 'C:\\\\Users\\\\Héctor\\\\Documents\\\\IRONHACK\\\\DATA ANALIST\\\\BOOTCAMP\\\\CULTURAL VIEWER FINAL PROJECT\\\\PYTHON\\\\json\\\\79.Iglesia de Santa Irene.json',\n",
       " 'C:\\\\Users\\\\Héctor\\\\Documents\\\\IRONHACK\\\\DATA ANALIST\\\\BOOTCAMP\\\\CULTURAL VIEWER FINAL PROJECT\\\\PYTHON\\\\json\\\\80.Bósforo.json',\n",
       " 'C:\\\\Users\\\\Héctor\\\\Documents\\\\IRONHACK\\\\DATA ANALIST\\\\BOOTCAMP\\\\CULTURAL VIEWER FINAL PROJECT\\\\PYTHON\\\\json\\\\81.Büyükada.json',\n",
       " 'C:\\\\Users\\\\Héctor\\\\Documents\\\\IRONHACK\\\\DATA ANALIST\\\\BOOTCAMP\\\\CULTURAL VIEWER FINAL PROJECT\\\\PYTHON\\\\json\\\\82.Borusan Contemporary.json',\n",
       " 'C:\\\\Users\\\\Héctor\\\\Documents\\\\IRONHACK\\\\DATA ANALIST\\\\BOOTCAMP\\\\CULTURAL VIEWER FINAL PROJECT\\\\PYTHON\\\\json\\\\83. Heybeliada.json',\n",
       " 'C:\\\\Users\\\\Héctor\\\\Documents\\\\IRONHACK\\\\DATA ANALIST\\\\BOOTCAMP\\\\CULTURAL VIEWER FINAL PROJECT\\\\PYTHON\\\\json\\\\84.Kınalıada.json',\n",
       " 'C:\\\\Users\\\\Héctor\\\\Documents\\\\IRONHACK\\\\DATA ANALIST\\\\BOOTCAMP\\\\CULTURAL VIEWER FINAL PROJECT\\\\PYTHON\\\\json\\\\85.Burgazada.json',\n",
       " 'C:\\\\Users\\\\Héctor\\\\Documents\\\\IRONHACK\\\\DATA ANALIST\\\\BOOTCAMP\\\\CULTURAL VIEWER FINAL PROJECT\\\\PYTHON\\\\json\\\\86. Burc Beach.json',\n",
       " 'C:\\\\Users\\\\Héctor\\\\Documents\\\\IRONHACK\\\\DATA ANALIST\\\\BOOTCAMP\\\\CULTURAL VIEWER FINAL PROJECT\\\\PYTHON\\\\json\\\\87. Santa Sofía.json',\n",
       " 'C:\\\\Users\\\\Héctor\\\\Documents\\\\IRONHACK\\\\DATA ANALIST\\\\BOOTCAMP\\\\CULTURAL VIEWER FINAL PROJECT\\\\PYTHON\\\\json\\\\88.Palacio de Dolmabahçe.json',\n",
       " 'C:\\\\Users\\\\Héctor\\\\Documents\\\\IRONHACK\\\\DATA ANALIST\\\\BOOTCAMP\\\\CULTURAL VIEWER FINAL PROJECT\\\\PYTHON\\\\json\\\\89.Sadberk Hanım Museum.json',\n",
       " 'C:\\\\Users\\\\Héctor\\\\Documents\\\\IRONHACK\\\\DATA ANALIST\\\\BOOTCAMP\\\\CULTURAL VIEWER FINAL PROJECT\\\\PYTHON\\\\json\\\\90. Miniatürk.json',\n",
       " 'C:\\\\Users\\\\Héctor\\\\Documents\\\\IRONHACK\\\\DATA ANALIST\\\\BOOTCAMP\\\\CULTURAL VIEWER FINAL PROJECT\\\\PYTHON\\\\json\\\\91. Iglesia de San Salvador de Cora.json',\n",
       " 'C:\\\\Users\\\\Héctor\\\\Documents\\\\IRONHACK\\\\DATA ANALIST\\\\BOOTCAMP\\\\CULTURAL VIEWER FINAL PROJECT\\\\PYTHON\\\\json\\\\92.Museo deHistoria Panorama 1453.json',\n",
       " 'C:\\\\Users\\\\Héctor\\\\Documents\\\\IRONHACK\\\\DATA ANALIST\\\\BOOTCAMP\\\\CULTURAL VIEWER FINAL PROJECT\\\\PYTHON\\\\json\\\\93.Sabancı University Sakıp Sabancı Museum.json',\n",
       " 'C:\\\\Users\\\\Héctor\\\\Documents\\\\IRONHACK\\\\DATA ANALIST\\\\BOOTCAMP\\\\CULTURAL VIEWER FINAL PROJECT\\\\PYTHON\\\\json\\\\94. Cirterna de Basílica.json',\n",
       " 'C:\\\\Users\\\\Héctor\\\\Documents\\\\IRONHACK\\\\DATA ANALIST\\\\BOOTCAMP\\\\CULTURAL VIEWER FINAL PROJECT\\\\PYTHON\\\\json\\\\95. Museo de la inocencia.json',\n",
       " 'C:\\\\Users\\\\Héctor\\\\Documents\\\\IRONHACK\\\\DATA ANALIST\\\\BOOTCAMP\\\\CULTURAL VIEWER FINAL PROJECT\\\\PYTHON\\\\json\\\\96.Rahmi M. Koç Museum.json',\n",
       " 'C:\\\\Users\\\\Héctor\\\\Documents\\\\IRONHACK\\\\DATA ANALIST\\\\BOOTCAMP\\\\CULTURAL VIEWER FINAL PROJECT\\\\PYTHON\\\\json\\\\97.Museo de Arte Turco e Islámico.json',\n",
       " 'C:\\\\Users\\\\Héctor\\\\Documents\\\\IRONHACK\\\\DATA ANALIST\\\\BOOTCAMP\\\\CULTURAL VIEWER FINAL PROJECT\\\\PYTHON\\\\json\\\\98. Palacio de Topkapi.json',\n",
       " 'C:\\\\Users\\\\Héctor\\\\Documents\\\\IRONHACK\\\\DATA ANALIST\\\\BOOTCAMP\\\\CULTURAL VIEWER FINAL PROJECT\\\\PYTHON\\\\json\\\\99. Museo arqueológico de Estambul.json',\n",
       " 'C:\\\\Users\\\\Héctor\\\\Documents\\\\IRONHACK\\\\DATA ANALIST\\\\BOOTCAMP\\\\CULTURAL VIEWER FINAL PROJECT\\\\PYTHON\\\\json\\\\100.Pera Museum.json']"
      ]
     },
     "execution_count": 3,
     "metadata": {},
     "output_type": "execute_result"
    }
   ],
   "source": [
    "from natsort import natsorted \n",
    "files1= natsorted(files)\n",
    "files1"
   ]
  },
  {
   "cell_type": "code",
   "execution_count": 8,
   "metadata": {},
   "outputs": [],
   "source": [
    "data=[]\n",
    "for single_file in files1:\n",
    "  with open(single_file, 'r') as f:\n",
    "    data .append(json.load(f))"
   ]
  },
  {
   "cell_type": "code",
   "execution_count": 11,
   "metadata": {},
   "outputs": [],
   "source": [
    "api_to_json(data, 'FULL.json')"
   ]
  }
 ],
 "metadata": {
  "kernelspec": {
   "display_name": "base",
   "language": "python",
   "name": "python3"
  },
  "language_info": {
   "codemirror_mode": {
    "name": "ipython",
    "version": 3
   },
   "file_extension": ".py",
   "mimetype": "text/x-python",
   "name": "python",
   "nbconvert_exporter": "python",
   "pygments_lexer": "ipython3",
   "version": "3.9.12"
  },
  "orig_nbformat": 4,
  "vscode": {
   "interpreter": {
    "hash": "ad2bdc8ecc057115af97d19610ffacc2b4e99fae6737bb82f5d7fb13d2f2c186"
   }
  }
 },
 "nbformat": 4,
 "nbformat_minor": 2
}
